{
 "cells": [
  {
   "cell_type": "code",
   "execution_count": 109,
   "metadata": {},
   "outputs": [],
   "source": [
    "import json\n",
    "import requests\n",
    "from dotenv import load_dotenv\n",
    "import os\n",
    "import datetime\n",
    "load_dotenv()\n",
    "\n",
    "BASE_URL = 'https://www.courtlistener.com/api/rest/v3/'\n",
    "HEADERS = {'Authorization': 'Token {}'.format(os.getenv(\"CL_API_KEY\"))}\n",
    "CAFC_OPINIONS = \"data/cafc_opinions.json\"\n",
    "CAFC_HEARINGS = \"data/cafc_hearings.json\""
   ]
  },
  {
   "cell_type": "markdown",
   "metadata": {},
   "source": [
    "## Collect CAFC Opinions"
   ]
  },
  {
   "cell_type": "code",
   "execution_count": 115,
   "metadata": {},
   "outputs": [],
   "source": [
    "with open(CAFC_OPINIONS, \"r\") as read_file:\n",
    "    data = json.load(read_file)\n",
    "    \n",
    "uri_list = [opinion[\"resource_uri\"] for opinion in data]\n",
    "\n",
    "response = requests.get(BASE_URL + 'opinions/?cluster__docket__court__id=cafc', headers=HEADERS)\n",
    "opinions = response.json()[\"results\"]\n",
    "next_page = response.json()[\"next\"] # Not Currently Being Used\n",
    "for i, opinion in enumerate(opinions):\n",
    "    cluster = requests.get(opinion[\"cluster\"], headers=HEADERS)\n",
    "#     print (cluster.json()[\"case_name\"])\n",
    "    opinion_data = {\n",
    "        \"resource_uri\": opinion[\"resource_uri\"],\n",
    "        \"date_created\": datetime.datetime.strptime(opinion[\"date_created\"], \"%Y-%m-%dT%H:%M:%S.%f%z\").strftime('%m/%d/%y'),\n",
    "        \"date_modified\": opinion[\"date_modified\"],\n",
    "        \"page_count\": opinion[\"page_count\"],\n",
    "        \"download_url\": opinion[\"download_url\"],\n",
    "        \"local_path\": opinion[\"local_path\"],\n",
    "        \"plain_text\": opinion[\"plain_text\"],\n",
    "        \"opinions_cited\": opinion[\"opinions_cited\"],\n",
    "        \"case_name\": cluster.json()[\"case_name\"]\n",
    "    }\n",
    "    if opinion_data[\"resource_uri\"] not in uri_list:\n",
    "        uri_list.append(opinion[\"resource_uri\"])\n",
    "        data.append(opinion_data)\n",
    "\n",
    "with open(CAFC_OPINIONS, 'w') as outfile:\n",
    "    json.dump(data, outfile)"
   ]
  },
  {
   "cell_type": "markdown",
   "metadata": {},
   "source": [
    "## Collect CAFC Hearings"
   ]
  },
  {
   "cell_type": "code",
   "execution_count": 116,
   "metadata": {},
   "outputs": [],
   "source": [
    "with open(\"data/cafc_hearings.json\", \"r\") as read_file:\n",
    "    data = json.load(read_file)\n",
    "    \n",
    "uri_list = [hearing[\"resource_uri\"] for hearing in data]\n",
    "\n",
    "response = requests.get(BASE_URL + 'audio/?cluster__docket__court__id=cafc', headers=HEADERS)\n",
    "hearings = response.json()[\"results\"]\n",
    "for i, hearing in enumerate(hearings):\n",
    "    hearing_data = {\n",
    "        \"resource_uri\": hearing[\"resource_uri\"],\n",
    "        \"date_created\": datetime.datetime.strptime(hearing[\"date_created\"], \"%Y-%m-%dT%H:%M:%S.%f%z\").strftime('%m/%d/%y'),\n",
    "        \"date_modified\": hearing[\"date_modified\"],\n",
    "        \"download_url\": hearing[\"download_url\"],\n",
    "        \"local_path_mp3\": hearing[\"local_path_mp3\"],\n",
    "        \"duration\": hearing[\"duration\"],\n",
    "        \"case_name\": hearing[\"case_name\"]\n",
    "    }\n",
    "    if hearing_data[\"resource_uri\"] not in uri_list:\n",
    "        uri_list.append(hearing['resource_uri'])\n",
    "        data.append(hearing_data)\n",
    "        \n",
    "with open(CAFC_HEARINGS, 'w') as outfile:\n",
    "    json.dump(data, outfile)"
   ]
  },
  {
   "cell_type": "code",
   "execution_count": 102,
   "metadata": {},
   "outputs": [],
   "source": [
    "import pandas as pd\n",
    "\n",
    "\n",
    "df2 = pd.DataFrame(r2.json()['results'])"
   ]
  },
  {
   "cell_type": "code",
   "execution_count": 118,
   "metadata": {},
   "outputs": [],
   "source": [
    "# df2.columns.values"
   ]
  },
  {
   "cell_type": "code",
   "execution_count": 117,
   "metadata": {},
   "outputs": [],
   "source": [
    "# df2.head()"
   ]
  },
  {
   "cell_type": "code",
   "execution_count": null,
   "metadata": {},
   "outputs": [],
   "source": []
  }
 ],
 "metadata": {
  "kernelspec": {
   "display_name": "Python 3",
   "language": "python",
   "name": "python3"
  },
  "language_info": {
   "codemirror_mode": {
    "name": "ipython",
    "version": 3
   },
   "file_extension": ".py",
   "mimetype": "text/x-python",
   "name": "python",
   "nbconvert_exporter": "python",
   "pygments_lexer": "ipython3",
   "version": "3.8.5"
  }
 },
 "nbformat": 4,
 "nbformat_minor": 4
}
