{
 "cells": [
  {
   "cell_type": "code",
   "execution_count": 213,
   "metadata": {},
   "outputs": [],
   "source": [
    "import json\n",
    "import requests\n",
    "from dotenv import load_dotenv\n",
    "import os\n",
    "import datetime\n",
    "load_dotenv()\n",
    "\n",
    "BASE_URL = 'https://www.courtlistener.com/api/rest/v3/'\n",
    "HEADERS = {'Authorization': 'Token {}'.format(os.getenv(\"CL_API_KEY\"))}\n",
    "CAFC_OPINIONS = \"data/cafc_opinions.json\"\n",
    "CAFC_HEARINGS = \"data/cafc_hearings.json\""
   ]
  },
  {
   "cell_type": "markdown",
   "metadata": {},
   "source": [
    "## Collect CAFC Opinions"
   ]
  },
  {
   "cell_type": "code",
   "execution_count": 214,
   "metadata": {},
   "outputs": [],
   "source": [
    "with open(CAFC_OPINIONS, \"r\") as read_file:\n",
    "    data = json.load(read_file)\n",
    "uri_list = [opinion[\"resource_uri\"] for opinion in data]\n",
    "\n",
    "# data = []\n",
    "# uri_list = []\n",
    "\n",
    "next_page = BASE_URL + \"opinions/?cluster__docket__court__id=cafc\"\n",
    "\n",
    "for j in range(2):\n",
    "    if next_page is not None:\n",
    "        response = requests.get(next_page, headers=HEADERS)\n",
    "        if response.json()[\"results\"]:\n",
    "            opinions = response.json()[\"results\"]\n",
    "            next_page = response.json()[\"next\"]\n",
    "        else:\n",
    "            break\n",
    "        for i, opinion in enumerate(opinions):\n",
    "            cluster = requests.get(opinion[\"cluster\"], headers=HEADERS)\n",
    "            # print (cluster.json()[\"case_name\"])\n",
    "            opinion_data = {\n",
    "                \"resource_uri\": opinion[\"resource_uri\"],\n",
    "                \"date_created\": datetime.datetime.strptime(opinion[\"date_created\"], \"%Y-%m-%dT%H:%M:%S.%f%z\").strftime(\"%m/%d/%y\"),\n",
    "                \"date_modified\": opinion[\"date_modified\"],\n",
    "                \"page_count\": opinion[\"page_count\"],\n",
    "                \"download_url\": opinion[\"download_url\"],\n",
    "                \"local_path\": opinion[\"local_path\"],\n",
    "                \"plain_text\": opinion[\"plain_text\"],\n",
    "                \"opinions_cited\": opinion[\"opinions_cited\"]\n",
    "            }\n",
    "\n",
    "            # If there is no case name, set it to the resource_uri       \n",
    "            try:\n",
    "                opinion_data[\"case_name\"] = cluster.json()[\"case_name\"]\n",
    "            except:\n",
    "                opinion_data[\"case_name\"] = opinion[\"resource_uri\"]\n",
    "                print(opinion[\"resource_uri\"] + \" HAS NO CASE NAME\")\n",
    "                pass\n",
    "\n",
    "            if opinion_data[\"resource_uri\"] not in uri_list:\n",
    "                uri_list.append(opinion[\"resource_uri\"])\n",
    "                data.append(opinion_data)\n",
    "    else:\n",
    "        break\n",
    "\n",
    "    # SORT THE DATA BASED ON DATE\n",
    "    data.sort(key=lambda x: x[\"date_created\"], reverse=True)\n",
    "\n",
    "    with open(CAFC_OPINIONS, 'w') as outfile:\n",
    "        json.dump(data, outfile)"
   ]
  },
  {
   "cell_type": "markdown",
   "metadata": {},
   "source": [
    "## Collect CAFC Hearings"
   ]
  },
  {
   "cell_type": "code",
   "execution_count": 210,
   "metadata": {},
   "outputs": [],
   "source": [
    "with open(\"data/cafc_hearings.json\", \"r\") as read_file:\n",
    "    data = json.load(read_file)\n",
    "    \n",
    "uri_list = [hearing[\"resource_uri\"] for hearing in data]\n",
    "\n",
    "response = requests.get(BASE_URL + 'audio/?cluster__docket__court__id=cafc', headers=HEADERS)\n",
    "hearings = response.json()[\"results\"]\n",
    "for i, hearing in enumerate(hearings):\n",
    "    hearing_data = {\n",
    "        \"resource_uri\": hearing[\"resource_uri\"],\n",
    "        \"date_created\": datetime.datetime.strptime(hearing[\"date_created\"], \"%Y-%m-%dT%H:%M:%S.%f%z\").strftime('%m/%d/%y'),\n",
    "        \"date_modified\": hearing[\"date_modified\"],\n",
    "        \"download_url\": hearing[\"download_url\"],\n",
    "        \"local_path_mp3\": hearing[\"local_path_mp3\"],\n",
    "        \"duration\": hearing[\"duration\"],\n",
    "        \"case_name\": hearing[\"case_name\"]\n",
    "    }\n",
    "    if hearing_data[\"resource_uri\"] not in uri_list:\n",
    "        uri_list.append(hearing['resource_uri'])\n",
    "        data.append(hearing_data)\n",
    "\n",
    "# SORT THE DATA BASED ON DATE\n",
    "data.sort(key=lambda x: x[\"date_created\"], reverse=True)\n",
    "\n",
    "with open(CAFC_HEARINGS, 'w') as outfile:\n",
    "    json.dump(data, outfile)"
   ]
  },
  {
   "cell_type": "code",
   "execution_count": 32,
   "metadata": {},
   "outputs": [
    {
     "data": {
      "text/plain": [
       "7434"
      ]
     },
     "execution_count": 32,
     "metadata": {},
     "output_type": "execute_result"
    }
   ],
   "source": [
    "len(data)"
   ]
  },
  {
   "cell_type": "code",
   "execution_count": 215,
   "metadata": {},
   "outputs": [],
   "source": [
    "import pandas as pd\n",
    "pd.options.mode.chained_assignment = None  # default='warn'\n",
    "\n",
    "cafc_opinion_df = pd.DataFrame(data)"
   ]
  },
  {
   "cell_type": "code",
   "execution_count": 34,
   "metadata": {},
   "outputs": [],
   "source": [
    "alice_cases = cafc_opinion_df[cafc_opinion_df['plain_text'].str.contains('Alice Corp.') \n",
    "                              | cafc_opinion_df['plain_text'].str.contains('134 S. Ct. 2347')\n",
    "                              | cafc_opinion_df['plain_text'].str.contains('573 U.S. 208')]"
   ]
  },
  {
   "cell_type": "code",
   "execution_count": 35,
   "metadata": {},
   "outputs": [
    {
     "data": {
      "text/plain": [
       "177"
      ]
     },
     "execution_count": 35,
     "metadata": {},
     "output_type": "execute_result"
    }
   ],
   "source": [
    "len(alice_cases)"
   ]
  },
  {
   "cell_type": "code",
   "execution_count": 36,
   "metadata": {
    "scrolled": true
   },
   "outputs": [],
   "source": [
    "alice_cases['date_created'] = pd.to_datetime(alice_cases['date_created'])\n",
    "alice_cases.sort_values(by=\"date_created\", ascending=False, inplace=True)\n",
    "alice_cases['date_created'] = alice_cases['date_created'].dt.strftime('%m/%d/%Y')"
   ]
  },
  {
   "cell_type": "code",
   "execution_count": 37,
   "metadata": {},
   "outputs": [],
   "source": [
    "import json\n",
    "res = json.loads(alice_cases.to_json(orient='records'))\n",
    "\n",
    "ALICE_CASES = \"data/alice_cases.json\"\n",
    "with open(ALICE_CASES, 'w') as outfile:\n",
    "    json.dump(res, outfile)"
   ]
  },
  {
   "cell_type": "code",
   "execution_count": 38,
   "metadata": {},
   "outputs": [],
   "source": [
    "alice_by_year = alice_cases.groupby(pd.to_datetime(alice_cases.date_created).dt.year).agg({'count'})"
   ]
  },
  {
   "cell_type": "code",
   "execution_count": 123,
   "metadata": {},
   "outputs": [],
   "source": [
    "alice_by_year = alice_by_year.drop([0])"
   ]
  },
  {
   "cell_type": "code",
   "execution_count": 121,
   "metadata": {},
   "outputs": [],
   "source": [
    "alice_by_year.at[2014, ('resource_uri', 'count')] = 8"
   ]
  },
  {
   "cell_type": "code",
   "execution_count": 167,
   "metadata": {},
   "outputs": [
    {
     "data": {
      "image/png": "[encoded data removed]",
      "text/plain": [
       "<Figure size 960x480 with 1 Axes>"
      ]
     },
     "metadata": {},
     "output_type": "display_data"
    }
   ],
   "source": [
    "fig = plt.figure()\n",
    "plt.style.use('bmh')\n",
    "ax = alice_by_year[('resource_uri', 'count')].plot(\n",
    "    figsize=(12,6), \n",
    "    legend=False, \n",
    "    kind=\"bar\", \n",
    "    colormap='jet',\n",
    "    xlabel=\"Year\",\n",
    "    ylabel=\"Number of Cases\",\n",
    ")\n",
    "# Set the title to Comic Sans\n",
    "ax.set_title(\"Decisions at the Federal Circuit Involving Patent Eligibility Since Alice\", fontname='Garamond', fontsize=24)\n",
    "#ax = plt.gca()''\n",
    "ttl = ax.title\n",
    "ttl.set_position([.5, 1.05])\n",
    "plt.xticks(rotation=45)\n",
    "plt.ylim((0, 45))\n",
    "# ax.set_facecolor(\"#eeeeee\")  \n",
    "ax.grid(linestyle='dotted')\n",
    "plt.gcf().subplots_adjust(bottom=0.15)\n",
    "fig.savefig('test.png')"
   ]
  },
  {
   "cell_type": "code",
   "execution_count": 168,
   "metadata": {},
   "outputs": [
    {
     "data": {
      "text/plain": [
       "7434"
      ]
     },
     "execution_count": 168,
     "metadata": {},
     "output_type": "execute_result"
    }
   ],
   "source": [
    "len(cafc_opinion_df)"
   ]
  },
  {
   "cell_type": "code",
   "execution_count": 216,
   "metadata": {},
   "outputs": [],
   "source": [
    "patent_cases = cafc_opinion_df[cafc_opinion_df['plain_text'].str.contains('35 U.S.C.')\n",
    "                              | cafc_opinion_df['plain_text'].str.contains('patent')]"
   ]
  },
  {
   "cell_type": "code",
   "execution_count": 217,
   "metadata": {},
   "outputs": [
    {
     "data": {
      "text/plain": [
       "2122"
      ]
     },
     "execution_count": 217,
     "metadata": {},
     "output_type": "execute_result"
    }
   ],
   "source": [
    "len(patent_cases)"
   ]
  },
  {
   "cell_type": "code",
   "execution_count": 176,
   "metadata": {},
   "outputs": [],
   "source": [
    "alice_patent_cases = patent_cases[patent_cases['plain_text'].str.contains('Alice Corp.') \n",
    "                              | patent_cases['plain_text'].str.contains('134 S. Ct. 2347')\n",
    "                              | patent_cases['plain_text'].str.contains('573 U.S. 208')]"
   ]
  },
  {
   "cell_type": "code",
   "execution_count": 177,
   "metadata": {},
   "outputs": [
    {
     "data": {
      "text/plain": [
       "176"
      ]
     },
     "execution_count": 177,
     "metadata": {},
     "output_type": "execute_result"
    }
   ],
   "source": [
    "len(alice_patent_cases)"
   ]
  },
  {
   "cell_type": "code",
   "execution_count": 178,
   "metadata": {},
   "outputs": [
    {
     "data": {
      "text/plain": [
       "177"
      ]
     },
     "execution_count": 178,
     "metadata": {},
     "output_type": "execute_result"
    }
   ],
   "source": [
    "len(alice_cases)"
   ]
  },
  {
   "cell_type": "code",
   "execution_count": 185,
   "metadata": {},
   "outputs": [
    {
     "data": {
      "text/plain": [
       "168              Adaptive Streaming Inc. v. Netflix, Inc.\n",
       "557                   Fast 101 Pty Ltd. v. Citigroup Inc.\n",
       "649                            Gree, Inc. v. Supercell Oy\n",
       "840                  C R Bard Inc. v. Angiodynamics, Inc.\n",
       "1290                           Tecsec, Inc. v. Adobe Inc.\n",
       "                              ...                        \n",
       "7025           Smartgene, Inc. v. Advanced Biological Lab\n",
       "2483    Accenture Global Services v. Guidewire Softwar...\n",
       "3696    Sinclair-Allison, Inc. v. Fifth Avenue Physici...\n",
       "3764                      Ultramercial, Inc. v. Hulu, Llc\n",
       "4697          Cls Bank International v. Alice Corporation\n",
       "Name: case_name, Length: 177, dtype: object"
      ]
     },
     "execution_count": 185,
     "metadata": {},
     "output_type": "execute_result"
    }
   ],
   "source": [
    "alice_cases['case_name']"
   ]
  },
  {
   "cell_type": "code",
   "execution_count": 186,
   "metadata": {},
   "outputs": [
    {
     "data": {
      "text/plain": [
       "14                    In Re: Marco Guldenaar Holding B.V.\n",
       "19         Vehicle Intelligence v. Mercedes-Benz USA, LLC\n",
       "37                 Content Extraction v. Wells Fargo Bank\n",
       "52         Glasswall Solutions Limited v. Clearswift Ltd.\n",
       "117     University of Utah Research v. Ambry Genetics ...\n",
       "                              ...                        \n",
       "7014      Core Wireless Licensing v. Lg Electronics, Inc.\n",
       "7025           Smartgene, Inc. v. Advanced Biological Lab\n",
       "7057    Mortgage Grader, Inc. v. First Choice Loan Ser...\n",
       "7079               Trading Technologies Intl v. Cqg, Inc.\n",
       "7273              Finjan, Inc. v. Blue Coat Systems, Inc.\n",
       "Name: case_name, Length: 176, dtype: object"
      ]
     },
     "execution_count": 186,
     "metadata": {},
     "output_type": "execute_result"
    }
   ],
   "source": [
    "alice_patent_cases['case_name']"
   ]
  },
  {
   "cell_type": "code",
   "execution_count": 196,
   "metadata": {},
   "outputs": [],
   "source": [
    "trademark_cases= cafc_opinion_df[cafc_opinion_df['plain_text'].str.contains('Trademark')\n",
    "                              | cafc_opinion_df['plain_text'].str.contains('trademark')]"
   ]
  },
  {
   "cell_type": "code",
   "execution_count": 197,
   "metadata": {},
   "outputs": [
    {
     "data": {
      "text/plain": [
       "1803"
      ]
     },
     "execution_count": 197,
     "metadata": {},
     "output_type": "execute_result"
    }
   ],
   "source": [
    "len(trademark_cases)"
   ]
  },
  {
   "cell_type": "code",
   "execution_count": 218,
   "metadata": {},
   "outputs": [],
   "source": [
    "patent_cases['date_created'] = pd.to_datetime(patent_cases['date_created'])\n",
    "patent_cases.sort_values(by=\"date_created\", ascending=False, inplace=True)\n",
    "patent_cases['date_created'] = patent_cases['date_created'].dt.strftime('%m/%d/%Y')"
   ]
  },
  {
   "cell_type": "code",
   "execution_count": 219,
   "metadata": {},
   "outputs": [],
   "source": [
    "import json\n",
    "patent_cases_json = json.loads(patent_cases.to_json(orient='records'))\n",
    "\n",
    "CAFC_PATENT_CASES = \"data/cafc_patent_cases.json\"\n",
    "with open(CAFC_PATENT_CASES, 'w') as outfile:\n",
    "    json.dump(patent_cases_json, outfile)"
   ]
  },
  {
   "cell_type": "code",
   "execution_count": null,
   "metadata": {},
   "outputs": [],
   "source": []
  }
 ],
 "metadata": {
  "kernelspec": {
   "display_name": "Python 3",
   "language": "python",
   "name": "python3"
  },
  "language_info": {
   "codemirror_mode": {
    "name": "ipython",
    "version": 3
   },
   "file_extension": ".py",
   "mimetype": "text/x-python",
   "name": "python",
   "nbconvert_exporter": "python",
   "pygments_lexer": "ipython3",
   "version": "3.8.5"
  }
 },
 "nbformat": 4,
 "nbformat_minor": 4
}
