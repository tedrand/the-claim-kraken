{
 "cells": [
  {
   "cell_type": "code",
   "execution_count": 25,
   "metadata": {},
   "outputs": [
    {
     "data": {
      "text/plain": [
       "True"
      ]
     },
     "execution_count": 25,
     "metadata": {},
     "output_type": "execute_result"
    }
   ],
   "source": [
    "import contentful\n",
    "import os\n",
    "from dotenv import load_dotenv\n",
    "\n",
    "load_dotenv()"
   ]
  },
  {
   "cell_type": "code",
   "execution_count": 26,
   "metadata": {},
   "outputs": [],
   "source": [
    "client = contentful.Client(\n",
    "  os.getenv(\"CONTENTFUL_SPACE_ID\"),  # This is the space ID. A space is like a project folder in Contentful terms\n",
    "  os.getenv(\"CONTENTFUL_DELIVERY_API\")  # This is the access token for this space. Normally you get both ID and the token in the Contentful web app\n",
    ")\n",
    "\n",
    "blog_posts = client.entries({'content_type': 'blog'}) # query for a content-type by its ID (not name)"
   ]
  },
  {
   "cell_type": "code",
   "execution_count": 29,
   "metadata": {},
   "outputs": [
    {
     "name": "stdout",
     "output_type": "stream",
     "text": [
      "Test Blog Post\n",
      "This is a test blog post, yo.\n"
     ]
    }
   ],
   "source": [
    "for post in blog_posts:\n",
    "    print(getattr(post, 'title'))  \n",
    "    print(getattr(post, 'body'))"
   ]
  },
  {
   "cell_type": "code",
   "execution_count": null,
   "metadata": {},
   "outputs": [],
   "source": []
  }
 ],
 "metadata": {
  "kernelspec": {
   "display_name": "Python 3",
   "language": "python",
   "name": "python3"
  },
  "language_info": {
   "codemirror_mode": {
    "name": "ipython",
    "version": 3
   },
   "file_extension": ".py",
   "mimetype": "text/x-python",
   "name": "python",
   "nbconvert_exporter": "python",
   "pygments_lexer": "ipython3",
   "version": "3.8.5"
  }
 },
 "nbformat": 4,
 "nbformat_minor": 4
}
